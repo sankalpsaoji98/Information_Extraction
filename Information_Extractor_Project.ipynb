{
  "nbformat": 4,
  "nbformat_minor": 0,
  "metadata": {
    "colab": {
      "name": "Information Extractor Project.ipynb",
      "provenance": [],
      "collapsed_sections": []
    },
    "kernelspec": {
      "name": "python3",
      "display_name": "Python 3"
    },
    "language_info": {
      "name": "python"
    }
  },
  "cells": [
    {
      "cell_type": "code",
      "metadata": {
        "id": "C6txCO40REaS"
      },
      "source": [
        "import requests\n",
        "import json\n",
        "import pandas"
      ],
      "execution_count": null,
      "outputs": []
    },
    {
      "cell_type": "code",
      "metadata": {
        "id": "0m-tnEPpRWiY",
        "colab": {
          "base_uri": "https://localhost:8080/"
        },
        "outputId": "3ae0878b-da5e-4653-c5eb-49264d013a70"
      },
      "source": [
        "!pip install newspaper3k"
      ],
      "execution_count": null,
      "outputs": [
        {
          "output_type": "stream",
          "text": [
            "Requirement already satisfied: newspaper3k in /usr/local/lib/python3.7/dist-packages (0.2.8)\n",
            "Requirement already satisfied: Pillow>=3.3.0 in /usr/local/lib/python3.7/dist-packages (from newspaper3k) (7.1.2)\n",
            "Requirement already satisfied: jieba3k>=0.35.1 in /usr/local/lib/python3.7/dist-packages (from newspaper3k) (0.35.1)\n",
            "Requirement already satisfied: tldextract>=2.0.1 in /usr/local/lib/python3.7/dist-packages (from newspaper3k) (3.1.0)\n",
            "Requirement already satisfied: PyYAML>=3.11 in /usr/local/lib/python3.7/dist-packages (from newspaper3k) (3.13)\n",
            "Requirement already satisfied: lxml>=3.6.0 in /usr/local/lib/python3.7/dist-packages (from newspaper3k) (4.2.6)\n",
            "Requirement already satisfied: beautifulsoup4>=4.4.1 in /usr/local/lib/python3.7/dist-packages (from newspaper3k) (4.6.3)\n",
            "Requirement already satisfied: nltk>=3.2.1 in /usr/local/lib/python3.7/dist-packages (from newspaper3k) (3.2.5)\n",
            "Requirement already satisfied: cssselect>=0.9.2 in /usr/local/lib/python3.7/dist-packages (from newspaper3k) (1.1.0)\n",
            "Requirement already satisfied: requests>=2.10.0 in /usr/local/lib/python3.7/dist-packages (from newspaper3k) (2.23.0)\n",
            "Requirement already satisfied: feedparser>=5.2.1 in /usr/local/lib/python3.7/dist-packages (from newspaper3k) (6.0.2)\n",
            "Requirement already satisfied: tinysegmenter==0.3 in /usr/local/lib/python3.7/dist-packages (from newspaper3k) (0.3)\n",
            "Requirement already satisfied: feedfinder2>=0.0.4 in /usr/local/lib/python3.7/dist-packages (from newspaper3k) (0.0.4)\n",
            "Requirement already satisfied: python-dateutil>=2.5.3 in /usr/local/lib/python3.7/dist-packages (from newspaper3k) (2.8.1)\n",
            "Requirement already satisfied: idna in /usr/local/lib/python3.7/dist-packages (from tldextract>=2.0.1->newspaper3k) (2.10)\n",
            "Requirement already satisfied: requests-file>=1.4 in /usr/local/lib/python3.7/dist-packages (from tldextract>=2.0.1->newspaper3k) (1.5.1)\n",
            "Requirement already satisfied: filelock>=3.0.8 in /usr/local/lib/python3.7/dist-packages (from tldextract>=2.0.1->newspaper3k) (3.0.12)\n",
            "Requirement already satisfied: six in /usr/local/lib/python3.7/dist-packages (from nltk>=3.2.1->newspaper3k) (1.15.0)\n",
            "Requirement already satisfied: urllib3!=1.25.0,!=1.25.1,<1.26,>=1.21.1 in /usr/local/lib/python3.7/dist-packages (from requests>=2.10.0->newspaper3k) (1.24.3)\n",
            "Requirement already satisfied: chardet<4,>=3.0.2 in /usr/local/lib/python3.7/dist-packages (from requests>=2.10.0->newspaper3k) (3.0.4)\n",
            "Requirement already satisfied: certifi>=2017.4.17 in /usr/local/lib/python3.7/dist-packages (from requests>=2.10.0->newspaper3k) (2020.12.5)\n",
            "Requirement already satisfied: sgmllib3k in /usr/local/lib/python3.7/dist-packages (from feedparser>=5.2.1->newspaper3k) (1.0.0)\n"
          ],
          "name": "stdout"
        }
      ]
    },
    {
      "cell_type": "code",
      "metadata": {
        "id": "sSVhG0P6Rfn3"
      },
      "source": [
        "import newspaper\n",
        "from newspaper import Article\n",
        "import spacy\n",
        "from spacy.matcher import Matcher"
      ],
      "execution_count": null,
      "outputs": []
    },
    {
      "cell_type": "code",
      "metadata": {
        "id": "ef-jzDd2RqUa"
      },
      "source": [
        "nlp = spacy.load('en_core_web_sm')"
      ],
      "execution_count": null,
      "outputs": []
    },
    {
      "cell_type": "code",
      "metadata": {
        "id": "An3b2bqARxzY"
      },
      "source": [
        "def extract_article_from_url(url):\n",
        "    a = Article(url)\n",
        "    a.download()\n",
        "    a.parse()\n",
        "    return a.text, a.publish_date"
      ],
      "execution_count": null,
      "outputs": []
    },
    {
      "cell_type": "code",
      "metadata": {
        "id": "our9TYSKR0Na"
      },
      "source": [
        "def sentence_giver(doc, start, end):\n",
        "    s = start\n",
        "    while str(doc[s]) != '.':\n",
        "        s = s - 1\n",
        "        if s < 0:\n",
        "            break\n",
        "    e = end\n",
        "    while str(doc[e]) != '.':\n",
        "        e = e + 1\n",
        "        if e > len(doc) - 1:\n",
        "            break\n",
        "    return str(doc[s+1:e])"
      ],
      "execution_count": null,
      "outputs": []
    },
    {
      "cell_type": "code",
      "metadata": {
        "id": "QRqOr5aER2TU"
      },
      "source": [
        "def location_finder(doc):\n",
        "    locations = []\n",
        "    sentences = []\n",
        "    matcher = Matcher(nlp.vocab)\n",
        "    pattern = [{\"ENT_TYPE\": \"GPE\"}]\n",
        "    matcher.add(\"Location\", [pattern])\n",
        "    matches = matcher(doc)\n",
        "    for match_id, start, end in matches:\n",
        "        sentence = sentence_giver(doc, start, end)\n",
        "        value = l_detail_filter(sentence)\n",
        "        if value == 1:\n",
        "            sentences.append(sentence)\n",
        "            locations.append(doc[start:end])\n",
        "    return locations, sentences"
      ],
      "execution_count": null,
      "outputs": []
    },
    {
      "cell_type": "code",
      "metadata": {
        "id": "yPG0E-syR4O3"
      },
      "source": [
        "def l_detail_filter(data):\n",
        "    data = nlp(data)\n",
        "    matcher = Matcher(nlp.vocab)\n",
        "    pattern1 = [{\"LOWER\": \"demonstrators\"}]\n",
        "    matcher.add(\"L_Filter\", [pattern1])\n",
        "    matches = matcher(data)\n",
        "    if len(matches) == 0:\n",
        "        return 0\n",
        "    else:\n",
        "        return 1"
      ],
      "execution_count": null,
      "outputs": []
    },
    {
      "cell_type": "code",
      "metadata": {
        "id": "Wmw5iod_R5sg"
      },
      "source": [
        "def number_finder(doc):\n",
        "    numbers = []\n",
        "    sentences = []\n",
        "    matcher = Matcher(nlp.vocab)\n",
        "    pattern = [{\"LIKE_NUM\": True}]\n",
        "    matcher.add(\"Number\", [pattern])\n",
        "    matches = matcher(doc)\n",
        "    for match_id, start, end in matches:\n",
        "        sentence = sentence_giver(doc, start, end)\n",
        "        value = n_detail_filter(sentence)\n",
        "        if value == 1:\n",
        "            sentences.append(sentence)\n",
        "            numbers.append(str(doc[start:end]))\n",
        "    return numbers, sentences"
      ],
      "execution_count": null,
      "outputs": []
    },
    {
      "cell_type": "code",
      "metadata": {
        "id": "ph3ID18FR7NI"
      },
      "source": [
        "def n_detail_filter(data):\n",
        "    data = nlp(data)\n",
        "    matcher = Matcher(nlp.vocab)\n",
        "    pattern1 = [{\"LOWER\": \"held\"}, {\"LOWER\": \"in\"}, {\"LOWER\" : \"detention\"}]\n",
        "    matcher.add(\"N_Filter\", [pattern1])\n",
        "    matches = matcher(data)\n",
        "    if len(matches) == 0:\n",
        "        return 0\n",
        "    else:\n",
        "        return 1"
      ],
      "execution_count": null,
      "outputs": []
    },
    {
      "cell_type": "code",
      "metadata": {
        "id": "pCJl0VpJR8qk"
      },
      "source": [
        "def risk_analyser(n_people, threshold1, threshold2):\n",
        "    if n_people[0] > threshold1:\n",
        "        if threshold2 > n_people[0]:\n",
        "            return 'Medium Risk'\n",
        "        else:\n",
        "            return 'High Risk'\n",
        "    else:\n",
        "        return 'Low Risk'"
      ],
      "execution_count": null,
      "outputs": []
    },
    {
      "cell_type": "code",
      "metadata": {
        "id": "geU2EF5UR-Rt"
      },
      "source": [
        "def solver(doc):\n",
        "    n_people, n_s = number_finder(doc)\n",
        "    print(n_people)\n",
        "    print(n_s)\n",
        "    l_places, l_s = location_finder(doc)\n",
        "    print(l_places)\n",
        "    print(l_s)"
      ],
      "execution_count": null,
      "outputs": []
    },
    {
      "cell_type": "code",
      "metadata": {
        "id": "vOVwhOzkSBX9",
        "colab": {
          "base_uri": "https://localhost:8080/"
        },
        "outputId": "0302002e-c9c1-4867-f8f6-3e37989b64c4"
      },
      "source": [
        "link = 'https://www.ndtv.com/world-news/11-dead-as-myanmar-protesters-fight-troops-with-handmade-guns-firebombs-2409266'\n",
        "content, date = extract_article_from_url(link)\n",
        "doc = nlp(content)\n",
        "print(doc)\n",
        "final = solver(doc)"
      ],
      "execution_count": null,
      "outputs": [
        {
          "output_type": "stream",
          "text": [
            "Anti-coup demonstrators in Myanmar fought back with handmade guns and firebombs\n",
            "\n",
            "Anti-coup demonstrators in Myanmar fought back with handmade guns and firebombs against a crackdown by security forces in a town in the northwest but at least 11 of the protesters were killed, domestic media reported on Thursday.\n",
            "\n",
            "Initially, six truckloads of troops were deployed to quell protesters in the town of Taze, the Myanmar Now and Irrawaddy news outlets said. When the protesters fought back with handmade guns, knives and firebombs, five more truckloads of troops were brought in.\n",
            "\n",
            "Fighting continued into Thursday morning and at least 11 protesters were killed and about 20 wounded, the media said. There was no word of any casualties among the soldiers.\n",
            "\n",
            "That would take the toll of civilians killed by security forces to over 600 since the junta seized power from the elected government of Aung San Suu Kyi on Feb. 1, according to the Assistance Association for Political Prisoners (AAPP). It had a toll of 598 dead as of Wednesday evening.\n",
            "\n",
            "Taze is near the town of Kale, where at least 12 people were killed in a similar clash between troops and protesters on Wednesday, according to news media and witnesses. Security forces fired live rounds, grenades, and machine-guns on protesters who were demanding the restoration of Suu Kyi's government, AAPP said.\n",
            "\n",
            "\"Taze, Kale have many hunters in the jungle,\" said Hein Min Hteik, a resident of the region and a youth activist. \"They have handmade firearms. And now they came out with their weapons in order to protect the locals, while the people were under attack by the junta.\"\n",
            "\n",
            "A spokesman for the junta could not be reached for comment.\n",
            "\n",
            "\"People will try to defend their own lives and their rights,\" said a former government minister who is part of the CRPH, a group of lawmakers representing the ousted civilian government.\n",
            "\n",
            "\"People will not wait for CRPH to act,\" the minister said in a video call with Reuters. \"The CRPH cannot stop the possible armed resistance by the people, from the people.\"The junta on Thursday arrested Paing Takhon, a model and actor who had spoken out against the coup, his sister told Reuters. In Yangon, the country's biggest city, activists placed shoes filled with flowers to commemorate dead protesters.\n",
            "\n",
            "AAPP has said 2,847 people were currently being held in detention.\n",
            "\n",
            "In addition, arrest warrants have been issued for hundreds of people, with the junta this week going after scores of influencers, entertainers, artists and musicians.\n",
            "\n",
            "'LOCKED OUT OF EMBASSY'\n",
            "\n",
            "Paing Takhon, 24, well-known in Myanmar and Thailand, was one of the latest celebrities to be detained. He had condemned the military takeover and pledged support for Suu Kyi.\n",
            "\n",
            "His sister, Thi Thi Lwin, told Reuters that the military detained her brother at 4.30 am at their parents' home in Yangon, where he had been staying for several days while unwell, suffering from malaria and a heart condition.\n",
            "\n",
            "The security forces came with eight military trucks and about 50 soldiers and it was unclear where he had been taken, she said.\n",
            "\n",
            "The country's most famous comedian, Zarganar, was arrested on Tuesday, media reported.\n",
            "\n",
            "Overseas, tussles for control of Myanmar's diplomatic missions emerged again on Wednesday.\n",
            "\n",
            "Myanmar's ambassador to London Kyaw Zwar Minn said he was locked out of the embassy, with sources saying his deputy had shut him out and taken charge on behalf of the military.\n",
            "\n",
            "Kyaw Zwar Minn has broken ranks with the ruling junta in recent weeks, calling for the release of detained civilian leader Suu Kyi.\n",
            "\n",
            "\"It's a kind of coup, in the middle of London... you can see that they occupy my building,\" he told Reuters.\n",
            "\n",
            "There have also been similar counter claims in embassies in other global centres and at the United Nations.\n",
            "\n",
            "Meanwhile, Senior General Min Aung Hlaing, the junta's leader, said in a statement on Wednesday that the civil disobedience movement, or CDM, had halted the working of hospitals, schools, roads, offices and factories.\n",
            "\n",
            "\"CDM is an activity to destroy the country,\" he said.\n",
            "\n",
            "Fitch Solutions said in a report that Western sanctions targeting the military were unlikely to succeed in restoring democracy, but said the army was losing control.\n",
            "\n",
            "It predicted a violent revolution pitting the military against an armed opposition comprised of members of the anti-coup movement and ethnic militias.\n",
            "\n",
            "\"The escalating violence on civilians and ethnic militias show that the Tatmadaw (military) is increasingly losing control of the country,\" it said.\n",
            "\n",
            "The vast majority of people back Suu Kyi's ousted government, it added.\n",
            "\n",
            "(Except for the headline, this story has not been edited by NDTV staff and is published from a syndicated feed.)\n",
            "['2,847']\n",
            "['\\n\\nAAPP has said 2,847 people were currently being held in detention']\n",
            "[Myanmar, Myanmar]\n",
            "['Anti-coup demonstrators in Myanmar fought back with handmade guns and firebombs\\n\\nAnti-coup demonstrators in Myanmar fought back with handmade guns and firebombs against a crackdown by security forces in a town in the northwest but at least 11 of the protesters were killed, domestic media reported on Thursday', 'Anti-coup demonstrators in Myanmar fought back with handmade guns and firebombs\\n\\nAnti-coup demonstrators in Myanmar fought back with handmade guns and firebombs against a crackdown by security forces in a town in the northwest but at least 11 of the protesters were killed, domestic media reported on Thursday']\n"
          ],
          "name": "stdout"
        }
      ]
    },
    {
      "cell_type": "code",
      "metadata": {
        "id": "eV-Nky2gSEzk"
      },
      "source": [
        ""
      ],
      "execution_count": null,
      "outputs": []
    }
  ]
}